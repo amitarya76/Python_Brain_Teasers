{
 "cells": [
  {
   "cell_type": "code",
   "execution_count": null,
   "id": "9a01faea-8133-4911-a057-0996b788e38d",
   "metadata": {},
   "outputs": [],
   "source": [
    "# ARJUN SUMMER OF PYTHON"
   ]
  },
  {
   "cell_type": "code",
   "execution_count": null,
   "id": "22aad508-a907-40c7-9f6f-04960896e7fc",
   "metadata": {},
   "outputs": [],
   "source": [
    "# Example - 1: Return a value\n",
    "\n",
    "print('This is a message')\n",
    "\n",
    "A = 10\n",
    "B = A\n",
    "\n",
    "print('A =', A,'= B')"
   ]
  },
  {
   "cell_type": "code",
   "execution_count": null,
   "id": "e5bf24a4-b8c8-4bf1-9e7a-8fca9b7cccfa",
   "metadata": {},
   "outputs": [],
   "source": [
    "# Example - 2: Using seperator and end argument\n",
    "a = 10\n",
    "print('a =', a, sep='dddd', end = '\\n')"
   ]
  },
  {
   "cell_type": "code",
   "execution_count": null,
   "id": "a7f4e89b-e72a-45c4-9167-54052216b7e4",
   "metadata": {},
   "outputs": [],
   "source": [
    "# 3 Taking Input to the User\n",
    "\n",
    "Name = input('Please enter student name')\n",
    "\n",
    "print('The student name is', Name)\n",
    "\n",
    "a = int(input('Enter first number'))\n",
    "b = int(input('Enter second number'))\n",
    "\n",
    "print('The sum of', a,'and', b,'is', a+b)"
   ]
  },
  {
   "cell_type": "code",
   "execution_count": null,
   "id": "90d23874-7597-4813-93f2-77bb2ca0df72",
   "metadata": {},
   "outputs": [],
   "source": [
    "# Python String\n",
    "\n",
    "str1 = \"Hello\"\n",
    "print(str1)\n",
    "\n",
    "str1 = 'Hello'\n",
    "print(str1)\n",
    "\n",
    "str1 = \"'Hello'\"\n",
    "print(str1)\n",
    "\n",
    "str1 = \"Hello's\"\n",
    "print(str1)"
   ]
  },
  {
   "cell_type": "code",
   "execution_count": null,
   "id": "b872a176-d885-4b8e-883e-cffca00b343f",
   "metadata": {},
   "outputs": [],
   "source": [
    "# Python List\n",
    "\n",
    "L1 = [\"John\", 102, \"USA\"]      \n",
    "L2 = [1, 2, 3, 4, 5, 6]     \n",
    "\n",
    "print(type(L1)) # list is mutable\n",
    "print(type(L2)) # list is mutable"
   ]
  },
  {
   "cell_type": "code",
   "execution_count": null,
   "id": "b179bf51-2c77-4f9e-b5ea-ae09ee2f4370",
   "metadata": {},
   "outputs": [],
   "source": [
    "# Python Tuple\n",
    "tup = (\"Apple\", \"Mango\" , \"Orange\" , \"Banana\")  \n",
    "\n",
    "print(type(tup))  #tuple is immutable\n",
    "print(tup)\n",
    "\n",
    "tup[2] = 'Papaya'\n",
    "print(tup) # you will get error since tuples are immutable/"
   ]
  },
  {
   "cell_type": "code",
   "execution_count": null,
   "id": "47b78d01-0f95-42af-b0a8-5eca0fabb347",
   "metadata": {},
   "outputs": [],
   "source": [
    "# Python Dictionary\n",
    "\n",
    "employee = {\"Name\": \"John\", \"Age\": 29, \"salary\":250000,\"Company\":\"GOOGLE\"}      \n",
    "\n",
    "print(type(employee))      \n",
    "print(employee, end ='\\n\\n')  "
   ]
  },
  {
   "cell_type": "code",
   "execution_count": null,
   "id": "f910b10c-8211-4321-9511-1e5d61ca6ccb",
   "metadata": {},
   "outputs": [],
   "source": [
    "# Creating Set  (a collection of unordered elements)\n",
    "\n",
    "Month = {\"January\", \"February\", \"March\", \"April\", \"May\", \"June\", \"July\"}  \n",
    "print(type(Month))  \n",
    "print(Month)  "
   ]
  },
  {
   "cell_type": "code",
   "execution_count": null,
   "id": "225d9451-8c88-494e-bfc1-a6ad6920156a",
   "metadata": {},
   "outputs": [],
   "source": [
    "# Indentation and Comment in Python\n",
    "\n",
    "list1 = [1, 2, 3, 4, 5] \n",
    "\n",
    "print(type(list1)) # this is a comment\n",
    "\n",
    "for i in list1:\n",
    "    print(i)\n",
    "    if i == len(list1):\n",
    "        print('last number is', i)"
   ]
  },
  {
   "cell_type": "code",
   "execution_count": null,
   "id": "079578d4-5c98-4f06-a1d2-babd96314453",
   "metadata": {},
   "outputs": [],
   "source": [
    "# Variables (must start with a character or an underscore)\n",
    "# Variables cannot start with a number or have special charcters\n",
    "\n",
    "number = 10  \n",
    "print(number)  \n",
    "  \n",
    "_a = 100  \n",
    "print(_a)  \n",
    "  \n",
    "x_y = 1000  \n",
    "print(x_y)  "
   ]
  },
  {
   "cell_type": "code",
   "execution_count": null,
   "id": "791c2dd3-51b1-44db-a37e-cc8c307da820",
   "metadata": {},
   "outputs": [],
   "source": [
    "a = 50\n",
    "b = a\n",
    "\n",
    "print('ID when a = 50 ', id(a))  \n",
    "print('ID when b = a  ', id(b)) \n",
    "\n",
    "# Reassigned variable a  \n",
    "a = 500  \n",
    "print('ID when a = 500', id(a))"
   ]
  },
  {
   "cell_type": "code",
   "execution_count": null,
   "id": "2e58442e-6d9c-4043-99b6-5a99fcad481f",
   "metadata": {},
   "outputs": [],
   "source": [
    "#Variable Names\n",
    "\n",
    "name = \"A\"  \n",
    "Name = \"B\"  \n",
    "naMe = \"C\"  \n",
    "NAME = \"D\"  \n",
    "n_a_m_e = \"E\"  \n",
    "_name = \"F\"  \n",
    "name_ = \"G\"  \n",
    "_name_ = \"H\"  \n",
    "na56me = \"I\"  \n",
    "  \n",
    "print(name,Name,naMe,NAME,n_a_m_e, NAME, n_a_m_e, _name, name_,_name, na56me)  "
   ]
  },
  {
   "cell_type": "code",
   "execution_count": 53,
   "id": "2d0083f9-9187-412d-b1ef-a263fe41728f",
   "metadata": {},
   "outputs": [],
   "source": [
    "# Camel Case - In the # camel case, each word or abbreviation in the middle of begins with a capital letter. There is no intervention of whitespace.\n",
    "# For example - nameOfStudent, valueOfVaraible, etc.\n",
    "\n",
    "# Pascal Case - It is the same as the Camel Case, but here the first word is also capital.\n",
    "# For example - NameOfStudent, etc.\n",
    "\n",
    "# Snake Case - In the snake case, Words are separated by the underscore.\n",
    "# For example - name_of_student, etc."
   ]
  },
  {
   "cell_type": "code",
   "execution_count": 54,
   "id": "b5fff6f8-38fb-44b5-953f-e0e29df60dc3",
   "metadata": {},
   "outputs": [
    {
     "name": "stdout",
     "output_type": "stream",
     "text": [
      "50\n",
      "50\n",
      "50\n"
     ]
    }
   ],
   "source": [
    "# Assigning single value to multiple variables\n",
    "\n",
    "x=y=z=50    \n",
    "print(x)    \n",
    "print(y)    \n",
    "print(z)   "
   ]
  },
  {
   "cell_type": "code",
   "execution_count": 56,
   "id": "68f4860f-6978-4cf0-be4c-6417e6ba6b23",
   "metadata": {},
   "outputs": [
    {
     "name": "stdout",
     "output_type": "stream",
     "text": [
      "5\n",
      "10\n",
      "15\n"
     ]
    }
   ],
   "source": [
    "# Assigning multiple values to multiple variables:\n",
    "\n",
    "a,b,c=5,10,15    \n",
    "print(a)\n",
    "print(b)    \n",
    "print(c)"
   ]
  },
  {
   "cell_type": "code",
   "execution_count": 68,
   "id": "46da9215-2422-4e5c-ac9f-08820d2d3530",
   "metadata": {},
   "outputs": [
    {
     "name": "stdout",
     "output_type": "stream",
     "text": [
      "Sum of 20 and 30 is 50\n"
     ]
    }
   ],
   "source": [
    "# Local Variable\n",
    "\n",
    "\n",
    "def add():\n",
    "    a = 20\n",
    "    b = 30\n",
    "    c = int(a) + int(b)\n",
    "    print('Sum of', a,'and',b,'is', c)\n",
    "    \n",
    "add()"
   ]
  },
  {
   "cell_type": "code",
   "execution_count": 70,
   "id": "15c16c29-d107-4403-b609-d62ef086104f",
   "metadata": {},
   "outputs": [
    {
     "name": "stdout",
     "output_type": "stream",
     "text": [
      "101\n",
      "Welcome\n",
      "Welcome\n"
     ]
    }
   ],
   "source": [
    "# GLOBAL FUNCTION\n",
    "\n",
    "# Declare a variable and initialize it  \n",
    "x = 101  \n",
    "  \n",
    "# Global variable in function  \n",
    "def mainFunction():  \n",
    "    # printing a global variable  \n",
    "    global x  \n",
    "    print(x)  \n",
    "    # modifying a global variable  \n",
    "    x = 'Welcome'  \n",
    "    print(x)  \n",
    "  \n",
    "mainFunction()  \n",
    "print(x)  "
   ]
  },
  {
   "cell_type": "code",
   "execution_count": 77,
   "id": "32430b86-bfb3-4e87-a850-d90a39e5b6e6",
   "metadata": {},
   "outputs": [
    {
     "name": "stdout",
     "output_type": "stream",
     "text": [
      "<class 'int'>\n",
      "<class 'str'>\n",
      "<class 'float'>\n",
      "\n",
      "The type of a <class 'int'>\n",
      "The type of b <class 'float'>\n",
      "The type of c <class 'complex'>\n",
      " c is a complex number True\n"
     ]
    }
   ],
   "source": [
    "# Data Types:\n",
    "\n",
    "a=10  \n",
    "b=\"Hi Python\"  \n",
    "c = 10.5  \n",
    "print(type(a))  # whole numbers\n",
    "print(type(b))  # text\n",
    "print(type(c), end = '\\n\\n')  # decimals\n",
    "\n",
    "a = 5  \n",
    "print(\"The type of a\", type(a))  \n",
    "  \n",
    "b = 40.5  \n",
    "print(\"The type of b\", type(b))  \n",
    "  \n",
    "c = 1+3j  \n",
    "print(\"The type of c\", type(c))  \n",
    "print(\" c is a complex number\", isinstance(1+3j,complex))  "
   ]
  },
  {
   "cell_type": "code",
   "execution_count": 78,
   "id": "b233e07d-51d8-416c-b7bf-5002586a6117",
   "metadata": {},
   "outputs": [
    {
     "name": "stdout",
     "output_type": "stream",
     "text": [
      "string using double quotes\n",
      "''A multiline \n",
      "string\n"
     ]
    }
   ],
   "source": [
    "# Multiline string\n",
    "\n",
    "str = \"string using double quotes\"  \n",
    "print(str)  \n",
    "\n",
    "s = '''A multiline \n",
    "string'''  \n",
    "\n",
    "print(s)  "
   ]
  },
  {
   "cell_type": "code",
   "execution_count": 86,
   "id": "7a225091-2242-46b2-9840-75e4c71cf317",
   "metadata": {},
   "outputs": [
    {
     "name": "stdout",
     "output_type": "stream",
     "text": [
      "printing first two character using slice operator => he\n",
      "printing 4th character of the string => o\n",
      "printing the string twice => hello Arjun Arya hello Arjun Arya \n",
      "printing the concatenation of str1 and str2 => hello Arjun Arya  how are you\n"
     ]
    }
   ],
   "source": [
    "# String Reference:\n",
    "\n",
    "str1 = 'hello Arjun Arya ' #string str1    \n",
    "str2 = ' how are you' #string str2    \n",
    "print ('printing first two character using slice operator =>', str1[0:2])\n",
    "print ('printing 4th character of the string =>',str1[4])    \n",
    "print ('printing the string twice =>', str1*2) #   \n",
    "print ('printing the concatenation of str1 and str2 =>', str1 + str2) "
   ]
  },
  {
   "cell_type": "code",
   "execution_count": 90,
   "id": "3868f297-f572-47b4-9149-24c4e45b31bf",
   "metadata": {},
   "outputs": [
    {
     "name": "stdout",
     "output_type": "stream",
     "text": [
      "<class 'list'>\n",
      "[1, 'hi', 'Python', 2]\n",
      "[]\n",
      "[1, 'hi']\n",
      "[1, 'hi', 'Python', 2, 1, 'hi', 'Python', 2]\n",
      "[1, 'hi', 'Python', 2, 1, 'hi', 'Python', 2, 1, 'hi', 'Python', 2]\n"
     ]
    }
   ],
   "source": [
    "list1  = [1, \"hi\", \"Python\", 2]    \n",
    "#Checking type of given list  \n",
    "print(type(list1))  \n",
    "  \n",
    "#Printing the list1  \n",
    "print (list1)  \n",
    "  \n",
    "# List slicing  \n",
    "print (list1[3:])  \n",
    "  \n",
    "# List slicing  \n",
    "print (list1[0:2])   \n",
    "  \n",
    "# List Concatenation using + operator  \n",
    "print (list1 + list1)  \n",
    "  \n",
    "# List repetation using * operator  \n",
    "print (list1 * 3)  "
   ]
  },
  {
   "cell_type": "code",
   "execution_count": 93,
   "id": "65ad3019-f302-479c-9073-0e3af4b7bea4",
   "metadata": {},
   "outputs": [
    {
     "name": "stdout",
     "output_type": "stream",
     "text": [
      "{1: 'Arjun', 2: 'Amit', 3: 'Jeena', 4: 'Meera'}\n",
      "1st name is Arjun\n",
      "2nd name is Meera\n",
      "dict_keys([1, 2, 3, 4])\n",
      "dict_values(['Arjun', 'Amit', 'Jeena', 'Meera'])\n"
     ]
    }
   ],
   "source": [
    "d = {1:'Arjun', 2:'Amit', 3:'Jeena', 4:'Meera'}     \n",
    "  \n",
    "# Printing dictionary  \n",
    "print (d)  \n",
    "  \n",
    "# Accesing value using keys  \n",
    "print(\"1st name is \"+d[1])   \n",
    "print(\"2nd name is \"+ d[4])    \n",
    "  \n",
    "print (d.keys())    \n",
    "print (d.values())    "
   ]
  },
  {
   "cell_type": "code",
   "execution_count": 92,
   "id": "465e0beb-d3c0-4f8d-ba50-b135fb76edee",
   "metadata": {},
   "outputs": [
    {
     "name": "stdout",
     "output_type": "stream",
     "text": [
      "{2, 3, 'James', 'Python'}\n",
      "{2, 3, 'James', 'Python', 10}\n",
      "{3, 'James', 'Python', 10}\n"
     ]
    }
   ],
   "source": [
    "# Creating Empty set  \n",
    "set1 = set()  \n",
    "  \n",
    "set2 = {'James', 2, 3,'Python'}  \n",
    "  \n",
    "#Printing Set value  \n",
    "print(set2)  \n",
    "  \n",
    "# Adding element to the set  \n",
    "  \n",
    "set2.add(10)  \n",
    "print(set2)  \n",
    "  \n",
    "#Removing element from the set  \n",
    "set2.remove(2)  \n",
    "print(set2)  "
   ]
  }
 ],
 "metadata": {
  "kernelspec": {
   "display_name": "Python 3 (ipykernel)",
   "language": "python",
   "name": "python3"
  },
  "language_info": {
   "codemirror_mode": {
    "name": "ipython",
    "version": 3
   },
   "file_extension": ".py",
   "mimetype": "text/x-python",
   "name": "python",
   "nbconvert_exporter": "python",
   "pygments_lexer": "ipython3",
   "version": "3.10.4"
  }
 },
 "nbformat": 4,
 "nbformat_minor": 5
}
